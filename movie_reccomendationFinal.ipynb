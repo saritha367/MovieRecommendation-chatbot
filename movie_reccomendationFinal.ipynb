{
  "nbformat": 4,
  "nbformat_minor": 0,
  "metadata": {
    "colab": {
      "provenance": [],
      "authorship_tag": "ABX9TyNm5MJ+NkWvtuYOUQ9T36uS",
      "include_colab_link": true
    },
    "kernelspec": {
      "name": "python3",
      "display_name": "Python 3"
    },
    "language_info": {
      "name": "python"
    }
  },
  "cells": [
    {
      "cell_type": "markdown",
      "metadata": {
        "id": "view-in-github",
        "colab_type": "text"
      },
      "source": [
        "<a href=\"https://colab.research.google.com/github/saritha367/MovieRecommendation-chatbot/blob/main/movie_reccomendationFinal.ipynb\" target=\"_parent\"><img src=\"https://colab.research.google.com/assets/colab-badge.svg\" alt=\"Open In Colab\"/></a>"
      ]
    },
    {
      "cell_type": "code",
      "execution_count": null,
      "metadata": {
        "id": "2C0_vqOErDVN"
      },
      "outputs": [],
      "source": [
        "import pandas as pd"
      ]
    },
    {
      "cell_type": "code",
      "source": [
        "from google.colab import files\n",
        "\n",
        "uploaded = files.upload()"
      ],
      "metadata": {
        "id": "rrGMPTqYrzKe"
      },
      "execution_count": null,
      "outputs": []
    },
    {
      "cell_type": "code",
      "source": [
        "# Load the file (replace with correct path if needed)\n",
        "df = pd.read_csv('indian_movies_updated.csv')\n",
        "\n",
        "# Check column names\n",
        "print(df.columns)\n",
        "df.columns = df.columns.str.strip().str.lower()"
      ],
      "metadata": {
        "id": "ChohzHxSrK8k"
      },
      "execution_count": null,
      "outputs": []
    },
    {
      "cell_type": "code",
      "source": [
        "# Mapping for common genre synonyms\n",
        "genre_synonyms = {\n",
        "    'romantic': 'romance',\n",
        "    'sci fi': 'sci-fi',\n",
        "    'science fiction': 'sci-fi',\n",
        "    'biographical': 'biography',\n",
        "    'thrillers': 'thriller',\n",
        "    'action-packed': 'action',\n",
        "    'musicals': 'musical'\n",
        "}\n",
        "\n",
        "def recommend_indian_movies(user_input, num_results=5):\n",
        "    words = user_input.lower().split()\n",
        "    user_lang = None\n",
        "    user_genre = None\n",
        "\n",
        "    known_languages = df['language'].str.lower().unique().tolist()\n",
        "    all_genres = df['genres'].str.lower().str.split(', ').explode().unique().tolist()\n",
        "\n",
        "    # Apply synonym mapping\n",
        "    words = [genre_synonyms.get(word, word) for word in words]\n",
        "\n",
        "    for word in words:\n",
        "        if word in known_languages:\n",
        "            user_lang = word\n",
        "        if word in all_genres:\n",
        "            user_genre = word\n",
        "\n",
        "    if not user_lang or not user_genre:\n",
        "        return [\"❌ Please enter both a valid Indian language and genre (e.g., 'Tamil thriller').\"]\n",
        "\n",
        "    filtered = df[(df['language'].str.lower() == user_lang) & (df['genres'].str.lower().str.contains(user_genre))]\n",
        "\n",
        "    if filtered.empty:\n",
        "        return [f\"❌ No {user_genre.title()} movies found in {user_lang.title()}.\"]\n",
        "\n",
        "    filtered = filtered.sort_values(by='rating', ascending=False).head(num_results)\n",
        "    return [f\"🎬 Top {user_genre.title()} movies in {user_lang.title()}:\"] + filtered['title'].tolist()\n"
      ],
      "metadata": {
        "id": "gCI46iposCXS"
      },
      "execution_count": null,
      "outputs": []
    },
    {
      "cell_type": "code",
      "source": [
        "# Chatbot interface\n",
        "print(\"🎬 Welcome to the Indian Language Movie Bot!\")\n",
        "print(\"Type a genre and language (e.g., 'Tamil thriller', 'Hindi drama'):\")\n",
        "print(\"❌ Type 'exit' to quit.\\n\")\n",
        "\n",
        "while True:\n",
        "    user_input = input(\"You: \")\n",
        "    if user_input.lower() in ['exit', 'quit']:\n",
        "        print(\"Bot: 👋 Goodbye!\")\n",
        "        break\n",
        "    recommendations = recommend_indian_movies(user_input)\n",
        "    print(\"Bot:\", recommendations[0])\n",
        "    for movie in recommendations[1:]:\n",
        "        print(f\"  👉 {movie}\")\n",
        "    print()"
      ],
      "metadata": {
        "id": "Z0N-oHCnsTi9"
      },
      "execution_count": null,
      "outputs": []
    }
  ]
}